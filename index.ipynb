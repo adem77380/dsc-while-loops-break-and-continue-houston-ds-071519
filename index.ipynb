{
 "cells": [
  {
   "cell_type": "markdown",
   "metadata": {},
   "source": [
    "# While Loops, Break and Continue\n",
    "\n",
    "## Introduction\n",
    "\n",
    "Earlier in the course, we learned how to iterate over collections. But is there is a way to have a loop **without** a collection to iterate over? Well, another way to create a loop is with **while** loops. We can use a while loop to perform the same action over and over until a condition is no longer `True`. We don't even need an *iterable* or collection to iterate over. We can just define a condition and perform the given code block until the condition is no longer `True`. Pretty cool, right?   \n",
    "\n",
    "Or what if we would like to have a loop that stops at a certain point? Let's say we only want to collect half of the elements of a list, or stop a list once we find the first matching element? To perform operations like these we'll need `break` and `continue` statements. These statements **control the flow** of our loops and will help us make our loops even more effective.\n",
    "\n",
    "## Objectives\n",
    "You will be able to:\n",
    "* Use a break and continue statements inside a loop\n",
    "* Understand, explain and use while loops\n",
    "\n",
    "## What is a `while` loop and how does it work?\n",
    "\n",
    "A while loop is just that; a loop! Similar to a for loop, except there is no need for a collection to iterate over. Instead, a while loop uses a condition to know when to stop executing. When the condition is true, the block inside the while loop is executed. When that condition is false, we exit the while loop and move on to the next piece of our code.\n",
    "\n",
    "Let's look at an example:"
   ]
  },
  {
   "cell_type": "code",
   "execution_count": 5,
   "metadata": {},
   "outputs": [
    {
     "name": "stdout",
     "output_type": "stream",
     "text": [
      "4\n",
      "3\n",
      "2\n",
      "1\n",
      "The stop_number reached 0 so the while loop's condition became False and stopped execution\n"
     ]
    }
   ],
   "source": [
    "stop_number = 4\n",
    "while stop_number > 0:\n",
    "    print(stop_number)\n",
    "    stop_number -=1\n",
    "print(f\"The stop_number reached {stop_number} so the while loop's condition became False and stopped execution\")"
   ]
  },
  {
   "cell_type": "code",
   "execution_count": 1,
   "metadata": {},
   "outputs": [
    {
     "name": "stdout",
     "output_type": "stream",
     "text": [
      "9\n",
      "8\n",
      "7\n",
      "6\n",
      "5\n",
      "4\n",
      "The stop number reached 3 so the while loop's condition became False and stopped working\n"
     ]
    }
   ],
   "source": [
    "stop_number = 9\n",
    "while stop_number > 3:\n",
    "  \n",
    "    print(stop_number)\n",
    "    stop_number -= 1\n",
    "print(f\"The stop number reached {stop_number} so the while loop's condition became False and stopped working\")"
   ]
  },
  {
   "cell_type": "markdown",
   "metadata": {},
   "source": [
    "Note the lack of a `list` or other collection, and that our second print statement only printed after our stop_number become 0.\n",
    "\n",
    "Also, notice that the structure of a while loop is such that it could execute for an *unknown* amount of times. For example, if we didn't know the stop_number because it changed from time to time, our while loop could execute more 100 times or 3. \n",
    "\n",
    "For example, if we used a random number:"
   ]
  },
  {
   "cell_type": "code",
   "execution_count": 15,
   "metadata": {
    "scrolled": true
   },
   "outputs": [
    {
     "name": "stdout",
     "output_type": "stream",
     "text": [
      "16\n",
      "15\n",
      "14\n",
      "13\n",
      "12\n",
      "11\n",
      "10\n",
      "9\n",
      "8\n",
      "7\n",
      "6\n",
      "5\n",
      "4\n",
      "3\n",
      "2\n",
      "1\n",
      "0\n"
     ]
    }
   ],
   "source": [
    "import random\n",
    "random_num = random.randint(2,21)\n",
    "while random_num > 0:\n",
    "    random_num -= 1\n",
    "    print(random_num)"
   ]
  },
  {
   "cell_type": "code",
   "execution_count": 16,
   "metadata": {},
   "outputs": [
    {
     "name": "stdout",
     "output_type": "stream",
     "text": [
      "obj B 2/3\n"
     ]
    }
   ],
   "source": [
    "rand = random.randint(1,100)\n",
    "if rand >= 100:\n",
    "    print(\"obj A 1/3\")\n",
    "else:\n",
    "    print(\"obj B 2/3\")"
   ]
  },
  {
   "cell_type": "markdown",
   "metadata": {},
   "source": [
    "However, we know that eventually that number will be less than 0 and the loop will eventually stop. This is of critical importance. A while loop must always have a condition that will stop the loop, otherwise we will have an **infinite** loop. Infinite loops can crash your browser or program, if you don't have a way to end it, so, it is very important to make sure your loops have a fairly defined **end** case.\n",
    "\n",
    "*If you do ever accidentally create an infinite loop, don't worry. Your current Notebook might freeze, and then kill the page to stop the execution. You can then re-open the browser again normally.*\n",
    "\n",
    "## When To Use While Loops\n",
    "\n",
    "While loops are fairly straight forward. We use them in instances where we have a **condition** that serves as the point at which we want a process to stop. For example, if we think about our appetite, we should eat until we aren't hungry, right? Some days that might be two slices of pizza, some days that might be 5 slices of pizza (and that is assumed all pizza slices to be of equal size, which is a *generous* assumption).\n",
    "\n",
    "![liz_lemon_eating_pizza](images/liz_lemon_eating_pizza.gif)\n",
    "\n",
    "In keeping with our food theme, let's see how we can make sure we're drinking enough water during the day using a while loop:"
   ]
  },
  {
   "cell_type": "code",
   "execution_count": 21,
   "metadata": {},
   "outputs": [
    {
     "name": "stdout",
     "output_type": "stream",
     "text": [
      "----water slips----\n",
      "ah, that was refreshing\n",
      "hydration is now at 10 %\n",
      "\n",
      "----water slips----\n",
      "ah, that was refreshing\n",
      "hydration is now at 20 %\n",
      "\n",
      "----water slips----\n",
      "ah, that was refreshing\n",
      "hydration is now at 30 %\n",
      "\n",
      "----water slips----\n",
      "ah, that was refreshing\n",
      "hydration is now at 40 %\n",
      "\n",
      "----water slips----\n",
      "ah, that was refreshing\n",
      "hydration is now at 50 %\n",
      "\n",
      "----water slips----\n",
      "ah, that was refreshing\n",
      "hydration is now at 60 %\n",
      "\n",
      "----water slips----\n",
      "ah, that was refreshing\n",
      "hydration is now at 70 %\n",
      "\n",
      "----water slips----\n",
      "ah, that was refreshing\n",
      "hydration is now at 80 %\n",
      "\n",
      "----water slips----\n",
      "ah, that was refreshing\n",
      "hydration is now at 90 %\n",
      "\n",
      "----water slips----\n",
      "ah, that was refreshing\n",
      "hydration is now at 100 %\n",
      "\n"
     ]
    }
   ],
   "source": [
    "hydration = 0\n",
    "water = 1\n",
    "while hydration < 100 and water >0:\n",
    "    print('----water slips----')\n",
    "    hydration += 10\n",
    "    print('ah, that was refreshing')\n",
    "    water -= .1\n",
    "    print('hydration is now at', hydration, '%\\n')"
   ]
  },
  {
   "cell_type": "code",
   "execution_count": 10,
   "metadata": {},
   "outputs": [
    {
     "name": "stdout",
     "output_type": "stream",
     "text": [
      "----water slips\n",
      "ah, that was refreshing\n",
      "hydration is now at 10 %\n",
      "\n",
      "----water slips\n",
      "ah, that was refreshing\n",
      "hydration is now at 20 %\n",
      "\n",
      "----water slips\n",
      "ah, that was refreshing\n",
      "hydration is now at 30 %\n",
      "\n",
      "----water slips\n",
      "ah, that was refreshing\n",
      "hydration is now at 40 %\n",
      "\n",
      "----water slips\n",
      "ah, that was refreshing\n",
      "hydration is now at 50 %\n",
      "\n",
      "----water slips\n",
      "ah, that was refreshing\n",
      "hydration is now at 60 %\n",
      "\n",
      "----water slips\n",
      "ah, that was refreshing\n",
      "hydration is now at 70 %\n",
      "\n",
      "----water slips\n",
      "ah, that was refreshing\n",
      "hydration is now at 80 %\n",
      "\n",
      "----water slips\n",
      "ah, that was refreshing\n",
      "hydration is now at 90 %\n",
      "\n",
      "----water slips\n",
      "ah, that was refreshing\n",
      "hydration is now at 100 %\n",
      "\n"
     ]
    }
   ],
   "source": [
    "hydration = 0\n",
    "water = 1\n",
    "while hydration < 100 and water >0: \n",
    "    print('----water slips')\n",
    "    water -= .1\n",
    "    print('ah, that was refreshing')\n",
    "    hydration += 10\n",
    "    print('hydration is now at', hydration, '%\\n')"
   ]
  },
  {
   "cell_type": "code",
   "execution_count": 9,
   "metadata": {},
   "outputs": [
    {
     "name": "stdout",
     "output_type": "stream",
     "text": [
      "---slips water\n",
      "ah that was refreshing\n",
      "hiydration is at 10 %\n",
      "\n",
      "---slips water\n",
      "ah that was refreshing\n",
      "hiydration is at 20 %\n",
      "\n",
      "---slips water\n",
      "ah that was refreshing\n",
      "hiydration is at 30 %\n",
      "\n",
      "---slips water\n",
      "ah that was refreshing\n",
      "hiydration is at 40 %\n",
      "\n",
      "---slips water\n",
      "ah that was refreshing\n",
      "hiydration is at 50 %\n",
      "\n",
      "---slips water\n",
      "ah that was refreshing\n",
      "hiydration is at 60 %\n",
      "\n",
      "---slips water\n",
      "ah that was refreshing\n",
      "hiydration is at 70 %\n",
      "\n",
      "---slips water\n",
      "ah that was refreshing\n",
      "hiydration is at 80 %\n",
      "\n",
      "---slips water\n",
      "ah that was refreshing\n",
      "hiydration is at 90 %\n",
      "\n",
      "---slips water\n",
      "ah that was refreshing\n",
      "hiydration is at 100 %\n",
      "\n"
     ]
    }
   ],
   "source": [
    "hydration = 0\n",
    "water = 1\n",
    "while hydration < 100 and water > 0:\n",
    "    print('---slips water')\n",
    "    hydration += 10\n",
    "    water -= .1\n",
    "    print('ah that was refreshing')\n",
    "    print('hiydration is at', hydration, '%\\n')"
   ]
  },
  {
   "cell_type": "code",
   "execution_count": 8,
   "metadata": {},
   "outputs": [
    {
     "name": "stdout",
     "output_type": "stream",
     "text": [
      "----[sips water]-----\n",
      "ah, that was refreshing\n",
      "hydration is now at 5 %\n",
      "\n",
      "0.9\n",
      "----[sips water]-----\n",
      "ah, that was refreshing\n",
      "hydration is now at 10 %\n",
      "\n",
      "0.8\n",
      "----[sips water]-----\n",
      "ah, that was refreshing\n",
      "hydration is now at 15 %\n",
      "\n",
      "0.7000000000000001\n",
      "----[sips water]-----\n",
      "ah, that was refreshing\n",
      "hydration is now at 20 %\n",
      "\n",
      "0.6000000000000001\n",
      "----[sips water]-----\n",
      "ah, that was refreshing\n",
      "hydration is now at 25 %\n",
      "\n",
      "0.5000000000000001\n",
      "----[sips water]-----\n",
      "ah, that was refreshing\n",
      "hydration is now at 30 %\n",
      "\n",
      "0.40000000000000013\n",
      "----[sips water]-----\n",
      "ah, that was refreshing\n",
      "hydration is now at 35 %\n",
      "\n",
      "0.30000000000000016\n",
      "----[sips water]-----\n",
      "ah, that was refreshing\n",
      "hydration is now at 40 %\n",
      "\n",
      "0.20000000000000015\n",
      "----[sips water]-----\n",
      "ah, that was refreshing\n",
      "hydration is now at 45 %\n",
      "\n",
      "0.10000000000000014\n",
      "----[sips water]-----\n",
      "ah, that was refreshing\n",
      "hydration is now at 50 %\n",
      "\n",
      "1.3877787807814457e-16\n",
      "----[sips water]-----\n",
      "ah, that was refreshing\n",
      "hydration is now at 55 %\n",
      "\n",
      "-0.09999999999999987\n"
     ]
    }
   ],
   "source": [
    "hydration = 0\n",
    "water = 1 # in gallons\n",
    "while hydration < 100 and water > 0:\n",
    "    print('----[sips water]-----')\n",
    "    water -= .1\n",
    "    print('ah, that was refreshing')\n",
    "    hydration += 5\n",
    "    print(\"hydration is now at\", hydration, \"%\\n\")\n",
    "    print(water)"
   ]
  },
  {
   "cell_type": "markdown",
   "metadata": {},
   "source": [
    "## On To `break` And `continue` Statements\n",
    "\n",
    "In the case, of `break` and `continue` it is almost best to not overthink. `break` and `continue` essentially do what they sound like. They are used in tandem with conditional statements (`if`, `elif`) inside loops, and they *break* out of a loop if a condition is met or *continue* a loop if a different condition is met. Before we dive too deep into how these statements function, let's look at an example."
   ]
  },
  {
   "cell_type": "code",
   "execution_count": 6,
   "metadata": {},
   "outputs": [
    {
     "name": "stdout",
     "output_type": "stream",
     "text": [
      "0 is even.\n",
      "this does not print for odd numbers\n",
      "because the continue statement skips\n",
      "the code that follows in the for loop\n",
      "and goes straight back to the next element in the for loop\n",
      "2 is even.\n",
      "this does not print for odd numbers\n",
      "because the continue statement skips\n",
      "the code that follows in the for loop\n",
      "and goes straight back to the next element in the for loop\n",
      "4 is even.\n",
      "this does not print for odd numbers\n",
      "because the continue statement skips\n",
      "the code that follows in the for loop\n",
      "and goes straight back to the next element in the for loop\n",
      "6 is even.\n",
      "this does not print for odd numbers\n",
      "because the continue statement skips\n",
      "the code that follows in the for loop\n",
      "and goes straight back to the next element in the for loop\n",
      "8 is even.\n",
      "this does not print for odd numbers\n",
      "because the continue statement skips\n",
      "the code that follows in the for loop\n",
      "and goes straight back to the next element in the for loop\n",
      "We have enough even numbers in new_list (5). break will stop the for loop now\n"
     ]
    }
   ],
   "source": [
    "numbers = list(range(0,30))\n",
    "new_list = []\n",
    "for num in numbers:\n",
    "    if len(new_list) > 4:\n",
    "        print(f\"We have enough even numbers in new_list ({len(new_list)}). break will stop the for loop now\")\n",
    "        break\n",
    "    elif num % 2 == 0:\n",
    "        new_list.append(num)\n",
    "    elif num % 2 != 0:\n",
    "        continue\n",
    "        print(\"i never get executed\")\n",
    "    print(num, \"is even.\")\n",
    "    print(\"this does not print for odd numbers\\nbecause the continue statement skips\\nthe code that follows in the for loop\\nand goes straight back to the next element in the for loop\")\n",
    "    "
   ]
  },
  {
   "cell_type": "code",
   "execution_count": 3,
   "metadata": {},
   "outputs": [
    {
     "name": "stdout",
     "output_type": "stream",
     "text": [
      "0 is even.\n",
      "this does not print for odd numbers\n",
      "because the continue statement skips\n",
      "the code that follows in the for loop\n",
      "and goes straight back to the next element in the for loop\n",
      "2 is even.\n",
      "this does not print for odd numbers\n",
      "because the continue statement skips\n",
      "the code that follows in the for loop\n",
      "and goes straight back to the next element in the for loop\n",
      "4 is even.\n",
      "this does not print for odd numbers\n",
      "because the continue statement skips\n",
      "the code that follows in the for loop\n",
      "and goes straight back to the next element in the for loop\n",
      "6 is even.\n",
      "this does not print for odd numbers\n",
      "because the continue statement skips\n",
      "the code that follows in the for loop\n",
      "and goes straight back to the next element in the for loop\n",
      "We have enough even numbers in new_list (4). break will stop the for loop now\n",
      "[0, 2, 4, 6]\n"
     ]
    }
   ],
   "source": [
    "numbers = list(range(0,30))\n",
    "new_list = []\n",
    "\n",
    "for num in numbers:\n",
    "    if len(new_list) >= 4:\n",
    "        print(f\"We have enough even numbers in new_list ({len(new_list)}). break will stop the for loop now\")\n",
    "        break\n",
    "    elif num %2 ==0:\n",
    "        new_list.append(num)\n",
    "    elif num %2 !=0:\n",
    "        continue\n",
    "        print(\"i never get executed\")\n",
    "    print(num, \"is even.\")\n",
    "    print(\"this does not print for odd numbers\\nbecause the continue statement skips\\nthe code that follows in the for loop\\nand goes straight back to the next element in the for loop\")\n",
    "print(new_list)"
   ]
  },
  {
   "cell_type": "code",
   "execution_count": 10,
   "metadata": {},
   "outputs": [
    {
     "data": {
      "text/plain": [
       "[0,\n",
       " 1,\n",
       " 2,\n",
       " 3,\n",
       " 4,\n",
       " 5,\n",
       " 6,\n",
       " 7,\n",
       " 8,\n",
       " 9,\n",
       " 10,\n",
       " 11,\n",
       " 12,\n",
       " 13,\n",
       " 14,\n",
       " 15,\n",
       " 16,\n",
       " 17,\n",
       " 18,\n",
       " 19,\n",
       " 20,\n",
       " 21,\n",
       " 22,\n",
       " 23,\n",
       " 24,\n",
       " 25,\n",
       " 26,\n",
       " 27,\n",
       " 28,\n",
       " 29,\n",
       " 30,\n",
       " 31,\n",
       " 32,\n",
       " 33,\n",
       " 34,\n",
       " 35,\n",
       " 36,\n",
       " 37,\n",
       " 38,\n",
       " 39,\n",
       " 40,\n",
       " 41,\n",
       " 42,\n",
       " 43,\n",
       " 44,\n",
       " 45,\n",
       " 46,\n",
       " 47,\n",
       " 48,\n",
       " 49]"
      ]
     },
     "execution_count": 10,
     "metadata": {},
     "output_type": "execute_result"
    }
   ],
   "source": [
    "list(range(0,50))"
   ]
  },
  {
   "cell_type": "code",
   "execution_count": 46,
   "metadata": {},
   "outputs": [
    {
     "name": "stdout",
     "output_type": "stream",
     "text": [
      "[1, 3, 5, 7, 9, 11, 13, 15, 17, 19]\n",
      "[0, 1, 2, 3, 4, 5, 6, 7, 8, 9, 10, 11, 12, 13, 14, 15, 16, 17, 18, 19, 20, 21, 22, 23, 24, 25, 26, 27, 28, 29, 30, 31, 32, 33, 34, 35, 36, 37, 38, 39, 40, 41, 42, 43, 44, 45, 46, 47, 48, 49]\n",
      "1225\n"
     ]
    }
   ],
   "source": [
    "numbers = list(range(0,50))\n",
    "new_list_one = []\n",
    "for num in numbers:\n",
    "    if len(new_list_one) >= 10:\n",
    "        break\n",
    "    elif num %2 == 1:\n",
    "        new_list_one.append(num)\n",
    "    elif num%2 != 0:\n",
    "        numbers.remove(num)\n",
    "print(new_list_one)\n",
    "print(numbers)\n",
    "print(sum(numbers))"
   ]
  },
  {
   "cell_type": "code",
   "execution_count": 47,
   "metadata": {},
   "outputs": [
    {
     "data": {
      "text/plain": [
       "50"
      ]
     },
     "execution_count": 47,
     "metadata": {},
     "output_type": "execute_result"
    }
   ],
   "source": [
    "len(numbers)"
   ]
  },
  {
   "cell_type": "markdown",
   "metadata": {},
   "source": [
    "Okay, so, let's unpack what's happening here. \n",
    "\n",
    "First, we have a for loop that is iterating over our list, `numbers`, which has 30 numbers in it. Then we see that we have an if statement that only executes it's code when our `new_list` has more than 4 numbers in it. Once this condition is met, we **break** out of our loop. We then have an `elif` statement that adds any even number to the `new_list`, and a final `elif` statement that tests to see if the number is odd, and if it is odd, then it **continue**s to the next element in our for loop's iteration process. \n",
    "\n",
    "So, first let's dig into the `continue` statement. `continue` is telling our loop to **skip** any code that comes after it and go straight to the next element in our loop. So, if we are dealing with number `1` in our list of numbers, we will hit our `continue` statement and immediately go to the next element in our for loop (i.e. `2`). Any code that comes after the `continue` will **not** be executed, **but** our for loop does **not** end execution. This contrasts with the `break` statement. Our break statement is only executed when we have met our condition that the `new_list` has reached the number of elements we want it to have. Once the `break` statement is executed, it will end the execution of the for loop altogether. All code after the `break` statement will be ignored, similar to our `continue`, but there will be no next step to the iteration. It stops the loop and that's the end.\n",
    "\n",
    "So, essentially, we can use `continue` to *skip* operation on elements and code below the continue. We can then use `break` when we have a condition that tells us we want to stop the process altogether.\n",
    "\n",
    "We can look at two examples to really reinforce this difference in execution."
   ]
  },
  {
   "cell_type": "code",
   "execution_count": 5,
   "metadata": {},
   "outputs": [
    {
     "name": "stdout",
     "output_type": "stream",
     "text": [
      "0\n",
      "Since we don't have a continue statement,\n",
      "I'll always get executed\n",
      "1\n",
      "Since we don't have a continue statement,\n",
      "I'll always get executed\n",
      "2\n",
      "Since we don't have a continue statement,\n",
      "I'll always get executed\n",
      "3\n",
      "Since we don't have a continue statement,\n",
      "I'll always get executed\n",
      "4\n",
      "Since we don't have a continue statement,\n",
      "I'll always get executed\n"
     ]
    }
   ],
   "source": [
    "for i in list(range(0,5)):\n",
    "    if True:\n",
    "        print(i)\n",
    "    print(\"Since we don't have a continue statement,\\nI'll always get executed\")"
   ]
  },
  {
   "cell_type": "code",
   "execution_count": 21,
   "metadata": {},
   "outputs": [
    {
     "name": "stdout",
     "output_type": "stream",
     "text": [
      "[]\n"
     ]
    }
   ],
   "source": [
    "number_of_books = list(range(0,450))\n",
    "profit_two = []\n",
    "profit_five = []\n",
    "profit_ten = []\n",
    "profit_twenty = []\n",
    "profit_thirty = []\n",
    "for num in number_of_books:\n",
    "    if len(profit_two) == 30:\n",
    "         profit_two = \n",
    "    elif len(profit_five) == 100:\n",
    "         profit_five = 500\n",
    "    elif len(profit_ten) == 170:\n",
    "         print(170*10)\n",
    "    elif len(profit_twenty) == 100:\n",
    "         print(100*20)\n",
    "print(sum(profit_two, profit_five))        "
   ]
  },
  {
   "cell_type": "code",
   "execution_count": 6,
   "metadata": {},
   "outputs": [
    {
     "name": "stdout",
     "output_type": "stream",
     "text": [
      "0\n",
      "1\n",
      "2\n",
      "3\n",
      "4\n"
     ]
    }
   ],
   "source": [
    "for i in list(range(0,5)):\n",
    "    if True:\n",
    "        print(i)\n",
    "        continue\n",
    "    print(\"I'll never get executed\")"
   ]
  },
  {
   "cell_type": "code",
   "execution_count": 20,
   "metadata": {},
   "outputs": [
    {
     "name": "stdout",
     "output_type": "stream",
     "text": [
      "0\n"
     ]
    }
   ],
   "source": [
    "for i in list(range(0,5)):\n",
    "    if True:\n",
    "        print(i)\n",
    "        break\n",
    "        print(\"I'll never get executed either\")"
   ]
  },
  {
   "cell_type": "markdown",
   "metadata": {},
   "source": [
    "These examples are a bit contrived but they very clearly show how `continue` and `break` work inside loops and conditional statements as well as the difference between their execution.\n",
    "\n",
    "## Identify Opportunities to Use Break and Continue\n",
    "\n",
    "Let's say you have a collection of things that you want to filter out elements and create a new list with the elements you want. But you also want to perform a complex operation on each of the elements you **do** want. Well, you don't want to perform that operation on the elements that you don't want and you don't want to have to perform multiple for loops on the collection. So, a `continue` statement would allow you to optimize your performance and avoid needing to perform those operations. And a `break` statement can be used when we want to put a limit on the number of iterations we perform, the number of elements we append to a new list, or even just stop our iteration when we have found the first element we want. Let's take a look:"
   ]
  },
  {
   "cell_type": "code",
   "execution_count": 2,
   "metadata": {},
   "outputs": [
    {
     "name": "stdout",
     "output_type": "stream",
     "text": [
      "before ['aNNE', 'JaNe', 'willIAM', 'WanDA', 'WeSt', 'HELEN', 'tHoMaS', 'HENrY', 'John', 'Marshall', 'May']\n",
      "after ['Anne', 'Jane', 'Helen', 'Thomas']\n",
      "4\n"
     ]
    }
   ],
   "source": [
    "names = [\"aNNE\", \"JaNe\", \"willIAM\", \"WanDA\", \"WeSt\", \"HELEN\", \"tHoMaS\", \"HENrY\", \"John\", \"Marshall\", \"May\"]\n",
    "formatted_names = []\n",
    "check_count = 0\n",
    "\n",
    "for name in names:\n",
    "    if name.startswith('w') or name.startswith(\"W\"):\n",
    "        check_count += 1\n",
    "        continue\n",
    "    elif len(formatted_names) >= 4:\n",
    "        check_count += 1\n",
    "        break\n",
    "    else:\n",
    "        formatted_names.append(name.title())\n",
    "\n",
    "print(\"before\", names)\n",
    "print(\"after\", formatted_names)\n",
    "print(check_count)"
   ]
  },
  {
   "cell_type": "markdown",
   "metadata": {},
   "source": [
    "Okay, so, as we can tell from our code. We wanted to create a list of 4 names that are properly formatted and that **don't** start with the letter `w`. To optimize our code, we first check to see if the name starts with `w`. If it does, we skip all other operations that we need to do and go to the next name. Next we check to see if we have hit our quota of 4 names. If we have, then stop the iteration altogether. Lastly, if neither condition is met, format the given name and append it to our new list of formatted names.\n",
    "This way, we are optimizing our code by making sure that we eliminate performing any operations that aren't absolutely necessary at each step. You may have noticed the variable, `check_count`. If you are feeling unconvinced that the break and continue are not cutting down on the number of times our code is executing, run the cell below and compare the `check_count`s, which increment after **each** check of a conditional statement."
   ]
  },
  {
   "cell_type": "code",
   "execution_count": 8,
   "metadata": {},
   "outputs": [
    {
     "name": "stdout",
     "output_type": "stream",
     "text": [
      "before ['aNNE', 'JaNe', 'willIAM', 'WanDA', 'WeSt', 'HELEN', 'tHoMaS', 'HENrY', 'John', 'Marshall', 'May']\n",
      "after ['Anne', 'Jane', 'William', 'Wanda']\n",
      "8\n"
     ]
    }
   ],
   "source": [
    "names = [\"aNNE\", \"JaNe\", \"willIAM\", \"WanDA\", \"WeSt\", \"HELEN\", \"tHoMaS\", \"HENrY\", \"John\", \"Marshall\", \"May\"]\n",
    "formatted_names = []\n",
    "check_count = 0\n",
    "\n",
    "for name in names:\n",
    "    formatted_name = \"\"\n",
    "    if len(formatted_names) < 4:\n",
    "        check_count += 1\n",
    "        if not name.startswith('w') or not name.startswith(\"W\"):\n",
    "            check_count += 1\n",
    "            formatted_names.append(name.title())\n",
    "            \n",
    "\n",
    "print(\"before\", names)\n",
    "print(\"after\", formatted_names)        \n",
    "print(check_count)"
   ]
  },
  {
   "cell_type": "markdown",
   "metadata": {},
   "source": [
    "See that?! We have cut down on the different checks we perform by half (50%)! And on top of that, to get the same result we have to have a **nested** if statement, which is, technically put, ***gross***. All joking aside, nested `if` statements should be avoided if they can be since they make our code less readable and therefore harder to maintain on top of being half as efficient as our previous code.\n",
    "\n",
    "It's important to note that these excess checks could represent much more expensive operations in our code. So, it is important to try and use `break` and `continue` when it makes sense.\n",
    "\n",
    "## Summary\n",
    "\n",
    "Awesome! While loops are great, right? We can use them to perform operations based on the truthiness of a condition instead of needing to iterate over the elements in a collection. They provide a more dynamic way to perform operations, but we need to be careful when writing while loops because we need there to be a condition that ends the loop. Otherwise we will have an **infinite** loop which will give us and our computer a real headache. In this lesson, we also introduced some *control flow* statements, `break` and `continue`, which allow us to make our conditional statements and the rest of our code more efficient and more readable. We call these statements control flow statements because they allow us to *control* the *flow* of our code's execution. "
   ]
  }
 ],
 "metadata": {
  "kernelspec": {
   "display_name": "Python 3",
   "language": "python",
   "name": "python3"
  },
  "language_info": {
   "codemirror_mode": {
    "name": "ipython",
    "version": 3
   },
   "file_extension": ".py",
   "mimetype": "text/x-python",
   "name": "python",
   "nbconvert_exporter": "python",
   "pygments_lexer": "ipython3",
   "version": "3.6.6"
  }
 },
 "nbformat": 4,
 "nbformat_minor": 2
}
